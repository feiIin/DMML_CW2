{
 "cells": [
  {
   "cell_type": "code",
   "execution_count": 1,
   "metadata": {},
   "outputs": [],
   "source": [
    "import pandas as pd\n",
    "import numpy as np\n",
    "import matplotlib.pyplot as plt\n",
    "from sklearn.model_selection import train_test_split\n",
    "from sklearn.neural_network import MLPClassifier\n",
    "from sklearn.metrics import classification_report,confusion_matrix\n",
    "from sklearn.model_selection import StratifiedKFold\n",
    "from sklearn.model_selection import cross_val_score\n",
    "import warnings\n",
    "warnings.filterwarnings('ignore')"
   ]
  },
  {
   "cell_type": "markdown",
   "metadata": {},
   "source": [
    "Reading in the data"
   ]
  },
  {
   "cell_type": "code",
   "execution_count": 2,
   "metadata": {},
   "outputs": [],
   "source": [
    "x_train_data = pd.read_csv(\"x_train_normalised_with_y_train_smpl.csv\", delimiter=\",\")"
   ]
  },
  {
   "cell_type": "code",
   "execution_count": 3,
   "metadata": {},
   "outputs": [],
   "source": [
    "X_train = x_train_data.iloc[:, 0:1600]\n",
    "y_train = x_train_data.iloc[:,-1].astype(int)"
   ]
  },
  {
   "cell_type": "markdown",
   "metadata": {},
   "source": [
    "## Changing the layers "
   ]
  },
  {
   "cell_type": "code",
   "execution_count": 20,
   "metadata": {},
   "outputs": [],
   "source": [
    "nn = MLPClassifier(hidden_layer_sizes=(10,), activation='relu', \n",
    "                   momentum=0.9,learning_rate_init=0.001,max_iter=200)\n",
    "score = cross_val_score(nn,X_train,y_train,cv=10)"
   ]
  },
  {
   "cell_type": "code",
   "execution_count": 21,
   "metadata": {},
   "outputs": [
    {
     "name": "stdout",
     "output_type": "stream",
     "text": [
      "Min score =0.8041074249605056, Max score: 0.9296998420221169, Mean Score = 0.8993680884676147\n"
     ]
    }
   ],
   "source": [
    "print(f\"Min score ={score.min()}, Max score: {score.max()}, Mean Score = {score.mean()}\")"
   ]
  },
  {
   "cell_type": "code",
   "execution_count": 22,
   "metadata": {},
   "outputs": [
    {
     "name": "stdout",
     "output_type": "stream",
     "text": [
      "Min score =0.8562401263823065, Max score: 0.9186413902053713, Mean Score = 0.8918641390205371\n"
     ]
    }
   ],
   "source": [
    "nn2 = MLPClassifier(hidden_layer_sizes=(10,10), activation='relu', \n",
    "                   momentum=0.9,learning_rate_init=0.001,max_iter=200)\n",
    "score2 = cross_val_score(nn2,X_train,y_train,cv=10)\n",
    "print(f\"Min score ={score2.min()}, Max score: {score2.max()}, Mean Score = {score2.mean()}\")"
   ]
  },
  {
   "cell_type": "code",
   "execution_count": 25,
   "metadata": {},
   "outputs": [
    {
     "name": "stdout",
     "output_type": "stream",
     "text": [
      "Min score =0.7045813586097947, Max score: 0.9565560821484992, Mean Score = 0.8643759873617693\n"
     ]
    }
   ],
   "source": [
    "nn3 = MLPClassifier(hidden_layer_sizes=(10,10,10), activation='relu', \n",
    "                   momentum=0.9,learning_rate_init=0.001,max_iter=200)\n",
    "score3 = cross_val_score(nn3,X_train,y_train,cv=10)\n",
    "print(f\"Min score ={score3.min()}, Max score: {score3.max()}, Mean Score = {score3.mean()}\")"
   ]
  },
  {
   "cell_type": "markdown",
   "metadata": {},
   "source": [
    "## Changing the neurons "
   ]
  },
  {
   "cell_type": "code",
   "execution_count": 7,
   "metadata": {},
   "outputs": [
    {
     "name": "stdout",
     "output_type": "stream",
     "text": [
      "Min score =0.8649289099526066, Max score: 0.9549763033175356, Mean Score = 0.9242496050552923\n"
     ]
    }
   ],
   "source": [
    "nn5 = MLPClassifier(hidden_layer_sizes=(20,), activation='relu', \n",
    "                   momentum=0.9,learning_rate_init=0.001,max_iter=200)\n",
    "score5 = cross_val_score(nn5,X_train,y_train,cv=10)\n",
    "print(f\"Min score ={score5.min()}, Max score: {score5.max()}, Mean Score = {score5.mean()}\")"
   ]
  },
  {
   "cell_type": "code",
   "execution_count": 26,
   "metadata": {},
   "outputs": [
    {
     "name": "stdout",
     "output_type": "stream",
     "text": [
      "Min score =0.8578199052132701, Max score: 0.9612954186413902, Mean Score = 0.9263823064770932\n"
     ]
    }
   ],
   "source": [
    "nn3 = MLPClassifier(hidden_layer_sizes=(30,), activation='relu', \n",
    "                   momentum=0.9,learning_rate_init=0.001,max_iter=200)\n",
    "score3 = cross_val_score(nn3,X_train,y_train,cv=10)\n",
    "print(f\"Min score ={score3.min()}, Max score: {score3.max()}, Mean Score = {score3.mean()}\")"
   ]
  },
  {
   "cell_type": "code",
   "execution_count": 5,
   "metadata": {},
   "outputs": [
    {
     "name": "stdout",
     "output_type": "stream",
     "text": [
      "Min score =0.8649289099526066, Max score: 0.9589257503949447, Mean Score = 0.9257503949447077\n"
     ]
    }
   ],
   "source": [
    "nn4 = MLPClassifier(hidden_layer_sizes=(50,), activation='relu', \n",
    "                   momentum=0.9,learning_rate_init=0.001,max_iter=200)\n",
    "score4 = cross_val_score(nn4,X_train,y_train,cv=10)\n",
    "print(f\"Min score ={score4.min()}, Max score: {score4.max()}, Mean Score = {score4.mean()}\")"
   ]
  },
  {
   "cell_type": "markdown",
   "metadata": {},
   "source": [
    "## Changing iterations "
   ]
  },
  {
   "cell_type": "code",
   "execution_count": 8,
   "metadata": {},
   "outputs": [
    {
     "name": "stdout",
     "output_type": "stream",
     "text": [
      "Min score =0.830173775671406, Max score: 0.9123222748815166, Mean Score = 0.8808846761453395\n"
     ]
    }
   ],
   "source": [
    "nn6 = MLPClassifier(hidden_layer_sizes=(20,), activation='relu', \n",
    "                   momentum=0.9,learning_rate_init=0.001,max_iter=50)\n",
    "score6 = cross_val_score(nn6,X_train,y_train,cv=10)\n",
    "print(f\"Min score ={score6.min()}, Max score: {score6.max()}, Mean Score = {score6.mean()}\")"
   ]
  },
  {
   "cell_type": "code",
   "execution_count": 10,
   "metadata": {},
   "outputs": [
    {
     "name": "stdout",
     "output_type": "stream",
     "text": [
      "Min score =0.8593996840442338, Max score: 0.9510268562401264, Mean Score = 0.9071879936808847\n"
     ]
    }
   ],
   "source": [
    "nn7 = MLPClassifier(hidden_layer_sizes=(20,), activation='relu', \n",
    "                   momentum=0.9,learning_rate_init=0.001,max_iter=100)\n",
    "score7 = cross_val_score(nn7,X_train,y_train,cv=10)\n",
    "print(f\"Min score ={score7.min()}, Max score: {score7.max()}, Mean Score = {score6.mean()}\")"
   ]
  },
  {
   "cell_type": "markdown",
   "metadata": {},
   "source": [
    "## Change learning rate"
   ]
  },
  {
   "cell_type": "code",
   "execution_count": 11,
   "metadata": {},
   "outputs": [
    {
     "name": "stdout",
     "output_type": "stream",
     "text": [
      "Min score =0.8522906793048973, Max score: 0.9557661927330173, Mean Score = 0.9155608214849922\n"
     ]
    }
   ],
   "source": [
    "nn8 = MLPClassifier(hidden_layer_sizes=(20,), activation='relu', \n",
    "                   momentum=0.9,learning_rate_init=0.01,max_iter=200)\n",
    "score8 = cross_val_score(nn8,X_train,y_train,cv=10)\n",
    "print(f\"Min score ={score8.min()}, Max score: {score8.max()}, Mean Score = {score8.mean()}\")"
   ]
  },
  {
   "cell_type": "code",
   "execution_count": 12,
   "metadata": {},
   "outputs": [
    {
     "name": "stdout",
     "output_type": "stream",
     "text": [
      "Min score =0.5055292259083728, Max score: 0.8996840442338072, Mean Score = 0.7378357030015797\n"
     ]
    }
   ],
   "source": [
    "nn9 = MLPClassifier(hidden_layer_sizes=(20,), activation='relu', \n",
    "                   momentum=0.9,learning_rate_init=0.1,max_iter=200)\n",
    "score9 = cross_val_score(nn9,X_train,y_train,cv=10)\n",
    "print(f\"Min score ={score9.min()}, Max score: {score9.max()}, Mean Score = {score9.mean()}\")"
   ]
  },
  {
   "cell_type": "markdown",
   "metadata": {},
   "source": [
    "## Change momentum"
   ]
  },
  {
   "cell_type": "code",
   "execution_count": 5,
   "metadata": {},
   "outputs": [
    {
     "name": "stdout",
     "output_type": "stream",
     "text": [
      "Min score =0.8649289099526066, Max score: 0.9589257503949447, Mean Score = 0.9236966824644549\n"
     ]
    }
   ],
   "source": [
    "nn10 = MLPClassifier(hidden_layer_sizes=(20,), activation='relu', \n",
    "                   momentum=0.7,learning_rate_init=0.001,max_iter=200)\n",
    "score10 = cross_val_score(nn10,X_train,y_train,cv=10)\n",
    "print(f\"Min score ={score10.min()}, Max score: {score10.max()}, Mean Score = {score10.mean()}\")"
   ]
  },
  {
   "cell_type": "code",
   "execution_count": 6,
   "metadata": {},
   "outputs": [
    {
     "name": "stdout",
     "output_type": "stream",
     "text": [
      "Min score =0.8704581358609794, Max score: 0.9565560821484992, Mean Score = 0.9224328593996841\n"
     ]
    }
   ],
   "source": [
    "nn11 = MLPClassifier(hidden_layer_sizes=(20,), activation='relu', \n",
    "                   momentum=0.5,learning_rate_init=0.001,max_iter=200)\n",
    "score11 = cross_val_score(nn11,X_train,y_train,cv=10)\n",
    "print(f\"Min score ={score11.min()}, Max score: {score11.max()}, Mean Score = {score11.mean()}\")"
   ]
  },
  {
   "cell_type": "markdown",
   "metadata": {},
   "source": [
    "## Change Validation Fraction"
   ]
  },
  {
   "cell_type": "code",
   "execution_count": 10,
   "metadata": {},
   "outputs": [
    {
     "name": "stdout",
     "output_type": "stream",
     "text": [
      "Min score =0.8459715639810427, Max score: 0.9447077409162717, Mean Score = 0.9103475513428121\n"
     ]
    }
   ],
   "source": [
    "nn11 = MLPClassifier(hidden_layer_sizes=(20,),momentum=0.5,learning_rate_init=0.001,\n",
    "                     max_iter=200, early_stopping=True,validation_fraction=0.5)\n",
    "score11 = cross_val_score(nn11,X_train,y_train,cv=10)\n",
    "print(f\"Min score ={score11.min()}, Max score: {score11.max()}, Mean Score = {score11.mean()}\")"
   ]
  },
  {
   "cell_type": "code",
   "execution_count": 11,
   "metadata": {},
   "outputs": [
    {
     "name": "stdout",
     "output_type": "stream",
     "text": [
      "Min score =0.8436018957345972, Max score: 0.9036334913112164, Mean Score = 0.8812006319115324\n"
     ]
    }
   ],
   "source": [
    "nn12 = MLPClassifier(hidden_layer_sizes=(20,),momentum=0.5,learning_rate_init=0.001,\n",
    "                     max_iter=200, early_stopping=True,validation_fraction=0.7)\n",
    "score12 = cross_val_score(nn12,X_train,y_train,cv=10)\n",
    "print(f\"Min score ={score12.min()}, Max score: {score12.max()}, Mean Score = {score12.mean()}\")"
   ]
  },
  {
   "cell_type": "code",
   "execution_count": null,
   "metadata": {},
   "outputs": [],
   "source": []
  }
 ],
 "metadata": {
  "kernelspec": {
   "display_name": "Python 3",
   "language": "python",
   "name": "python3"
  },
  "language_info": {
   "codemirror_mode": {
    "name": "ipython",
    "version": 3
   },
   "file_extension": ".py",
   "mimetype": "text/x-python",
   "name": "python",
   "nbconvert_exporter": "python",
   "pygments_lexer": "ipython3",
   "version": "3.7.1"
  }
 },
 "nbformat": 4,
 "nbformat_minor": 2
}
