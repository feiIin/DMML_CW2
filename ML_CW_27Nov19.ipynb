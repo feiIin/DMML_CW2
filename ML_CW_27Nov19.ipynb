{
 "cells": [
  {
   "cell_type": "code",
   "execution_count": 39,
   "metadata": {},
   "outputs": [],
   "source": [
    "import pandas as pd\n",
    "import numpy as np\n",
    "import cv2 as cv\n",
    "import matplotlib.pyplot as plt\n",
    "from sklearn.model_selection import train_test_split\n",
    "from sklearn.neural_network import MLPClassifier\n",
    "from sklearn.metrics import classification_report,confusion_matrix"
   ]
  },
  {
   "cell_type": "code",
   "execution_count": 10,
   "metadata": {},
   "outputs": [],
   "source": [
    "x_train_data = pd.read_csv(\"x_train_normalised_with_y_train_smpl.csv\", delimiter=\",\")"
   ]
  },
  {
   "cell_type": "code",
   "execution_count": 28,
   "metadata": {},
   "outputs": [],
   "source": [
    "y = x_train_data.iloc[:,-1]\n",
    "y = y.astype(int)\n",
    "x = x_train_data.iloc[:, 0:1600]"
   ]
  },
  {
   "cell_type": "code",
   "execution_count": 30,
   "metadata": {},
   "outputs": [],
   "source": [
    "X_train, X_test, y_train, y_test = train_test_split(x,y, test_size=0.3)"
   ]
  },
  {
   "cell_type": "code",
   "execution_count": 34,
   "metadata": {},
   "outputs": [],
   "source": [
    "nn = MLPClassifier(hidden_layer_sizes=(10,10,10))"
   ]
  },
  {
   "cell_type": "code",
   "execution_count": 35,
   "metadata": {},
   "outputs": [
    {
     "name": "stderr",
     "output_type": "stream",
     "text": [
      "C:\\Users\\singh\\Anaconda3\\lib\\site-packages\\sklearn\\neural_network\\multilayer_perceptron.py:562: ConvergenceWarning: Stochastic Optimizer: Maximum iterations (200) reached and the optimization hasn't converged yet.\n",
      "  % self.max_iter, ConvergenceWarning)\n"
     ]
    },
    {
     "data": {
      "text/plain": [
       "MLPClassifier(activation='relu', alpha=0.0001, batch_size='auto', beta_1=0.9,\n",
       "       beta_2=0.999, early_stopping=False, epsilon=1e-08,\n",
       "       hidden_layer_sizes=(10, 10, 10), learning_rate='constant',\n",
       "       learning_rate_init=0.001, max_iter=200, momentum=0.9,\n",
       "       n_iter_no_change=10, nesterovs_momentum=True, power_t=0.5,\n",
       "       random_state=None, shuffle=True, solver='adam', tol=0.0001,\n",
       "       validation_fraction=0.1, verbose=False, warm_start=False)"
      ]
     },
     "execution_count": 35,
     "metadata": {},
     "output_type": "execute_result"
    }
   ],
   "source": []
  },
  {
   "cell_type": "code",
   "execution_count": 37,
   "metadata": {},
   "outputs": [],
   "source": [
    "predictions = nn.predict(X_test)"
   ]
  },
  {
   "cell_type": "code",
   "execution_count": 40,
   "metadata": {},
   "outputs": [
    {
     "name": "stdout",
     "output_type": "stream",
     "text": [
      "[[367  35   0   2   2   1   0   0  20   1]\n",
      " [ 41 452   9   4   4   3   0   4  10   0]\n",
      " [  0   8 100   0   4   0   0   9   0   0]\n",
      " [  3   3   2 379  15   2   0   0   2   1]\n",
      " [  1   7   3   7 596   3   1   3   6   1]\n",
      " [  0   1   0   1   7 688   3   0  11   0]\n",
      " [  0   0   0   0   0   6 215   0   0   3]\n",
      " [  0  26  17   1   2   0   0  34   0   0]\n",
      " [ 10   6   0   0   2  11   1   0 559   0]\n",
      " [  0   0   0   2   0   0   2   0   0  79]]\n"
     ]
    }
   ],
   "source": [
    "print(confusion_matrix(y_test,predictions))"
   ]
  },
  {
   "cell_type": "code",
   "execution_count": 41,
   "metadata": {},
   "outputs": [
    {
     "name": "stdout",
     "output_type": "stream",
     "text": [
      "              precision    recall  f1-score   support\n",
      "\n",
      "           0       0.87      0.86      0.86       428\n",
      "           1       0.84      0.86      0.85       527\n",
      "           2       0.76      0.83      0.79       121\n",
      "           3       0.96      0.93      0.94       407\n",
      "           4       0.94      0.95      0.95       628\n",
      "           5       0.96      0.97      0.97       711\n",
      "           6       0.97      0.96      0.96       224\n",
      "           7       0.68      0.42      0.52        80\n",
      "           8       0.92      0.95      0.93       589\n",
      "           9       0.93      0.95      0.94        83\n",
      "\n",
      "   micro avg       0.91      0.91      0.91      3798\n",
      "   macro avg       0.88      0.87      0.87      3798\n",
      "weighted avg       0.91      0.91      0.91      3798\n",
      "\n"
     ]
    }
   ],
   "source": [
    "print(classification_report(y_test,predictions))"
   ]
  },
  {
   "cell_type": "code",
   "execution_count": 43,
   "metadata": {},
   "outputs": [
    {
     "name": "stdout",
     "output_type": "stream",
     "text": [
      "[[406  10   0   1   0   5   1   0   5   0]\n",
      " [ 28 482   0   2   7   4   0   0   4   0]\n",
      " [  0   0 112   0   4   1   0   4   0   0]\n",
      " [  3   0   1 384   6   2   0   2   9   0]\n",
      " [  2   5   1   0 603   9   2   1   5   0]\n",
      " [  2   2   0   1   1 692   0   0  12   1]\n",
      " [  0   0   0   0   0   5 218   0   1   0]\n",
      " [  2   1   4   4   3   0   0  66   0   0]\n",
      " [  1   0   0   3   0   4   2   0 579   0]\n",
      " [  0   1   0   0   0   2   0   0   0  80]]\n",
      "              precision    recall  f1-score   support\n",
      "\n",
      "           0       0.91      0.95      0.93       428\n",
      "           1       0.96      0.91      0.94       527\n",
      "           2       0.95      0.93      0.94       121\n",
      "           3       0.97      0.94      0.96       407\n",
      "           4       0.97      0.96      0.96       628\n",
      "           5       0.96      0.97      0.96       711\n",
      "           6       0.98      0.97      0.98       224\n",
      "           7       0.90      0.82      0.86        80\n",
      "           8       0.94      0.98      0.96       589\n",
      "           9       0.99      0.96      0.98        83\n",
      "\n",
      "   micro avg       0.95      0.95      0.95      3798\n",
      "   macro avg       0.95      0.94      0.95      3798\n",
      "weighted avg       0.95      0.95      0.95      3798\n",
      "\n"
     ]
    },
    {
     "name": "stderr",
     "output_type": "stream",
     "text": [
      "C:\\Users\\singh\\Anaconda3\\lib\\site-packages\\sklearn\\neural_network\\multilayer_perceptron.py:562: ConvergenceWarning: Stochastic Optimizer: Maximum iterations (200) reached and the optimization hasn't converged yet.\n",
      "  % self.max_iter, ConvergenceWarning)\n"
     ]
    }
   ],
   "source": [
    "nn1 = MLPClassifier(hidden_layer_sizes=(20,20,20))\n",
    "nn1.fit(X_train, y_train)\n",
    "predictions1 = nn1.predict(X_test)\n",
    "print(confusion_matrix(y_test,predictions1))\n",
    "print(classification_report(y_test,predictions1))"
   ]
  },
  {
   "cell_type": "code",
   "execution_count": 45,
   "metadata": {},
   "outputs": [
    {
     "name": "stdout",
     "output_type": "stream",
     "text": [
      "[[389  31   0   2   0   2   0   0   4   0]\n",
      " [ 27 490   0   1   0   4   0   1   4   0]\n",
      " [  1   2 109   0   3   0   0   6   0   0]\n",
      " [  3   1   1 391   8   1   0   1   1   0]\n",
      " [  1   6   1   4 595   8   0   7   6   0]\n",
      " [  6   1   0   1   7 684   1   1  10   0]\n",
      " [  1   0   0   0   0   6 214   0   3   0]\n",
      " [  0   1   0   0   2   0   0  76   1   0]\n",
      " [  3   1   0   3   0   2   1   0 579   0]\n",
      " [  1   0   0   0   1   0   0   0   0  81]]\n",
      "              precision    recall  f1-score   support\n",
      "\n",
      "           0       0.90      0.91      0.90       428\n",
      "           1       0.92      0.93      0.92       527\n",
      "           2       0.98      0.90      0.94       121\n",
      "           3       0.97      0.96      0.97       407\n",
      "           4       0.97      0.95      0.96       628\n",
      "           5       0.97      0.96      0.96       711\n",
      "           6       0.99      0.96      0.97       224\n",
      "           7       0.83      0.95      0.88        80\n",
      "           8       0.95      0.98      0.97       589\n",
      "           9       1.00      0.98      0.99        83\n",
      "\n",
      "   micro avg       0.95      0.95      0.95      3798\n",
      "   macro avg       0.95      0.95      0.95      3798\n",
      "weighted avg       0.95      0.95      0.95      3798\n",
      "\n"
     ]
    },
    {
     "name": "stderr",
     "output_type": "stream",
     "text": [
      "C:\\Users\\singh\\Anaconda3\\lib\\site-packages\\sklearn\\neural_network\\multilayer_perceptron.py:562: ConvergenceWarning: Stochastic Optimizer: Maximum iterations (200) reached and the optimization hasn't converged yet.\n",
      "  % self.max_iter, ConvergenceWarning)\n"
     ]
    }
   ],
   "source": [
    "nn2 = MLPClassifier(hidden_layer_sizes=(30,30,30))\n",
    "nn2.fit(X_train, y_train)\n",
    "predictions2 = nn2.predict(X_test)\n",
    "print(confusion_matrix(y_test,predictions2))\n",
    "print(classification_report(y_test,predictions2))"
   ]
  },
  {
   "cell_type": "code",
   "execution_count": null,
   "metadata": {},
   "outputs": [],
   "source": []
  }
 ],
 "metadata": {
  "kernelspec": {
   "display_name": "Python 3",
   "language": "python",
   "name": "python3"
  },
  "language_info": {
   "codemirror_mode": {
    "name": "ipython",
    "version": 3
   },
   "file_extension": ".py",
   "mimetype": "text/x-python",
   "name": "python",
   "nbconvert_exporter": "python",
   "pygments_lexer": "ipython3",
   "version": "3.7.1"
  }
 },
 "nbformat": 4,
 "nbformat_minor": 2
}
